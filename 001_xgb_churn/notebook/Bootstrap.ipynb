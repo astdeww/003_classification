{
 "cells": [
  {
   "cell_type": "code",
   "execution_count": 1,
   "id": "e26c57e3",
   "metadata": {
    "scrolled": true,
    "vscode": {
     "languageId": "r"
    }
   },
   "outputs": [],
   "source": [
    "# install.packages('sqldf')"
   ]
  },
  {
   "cell_type": "code",
   "execution_count": 2,
   "id": "3101f070",
   "metadata": {
    "vscode": {
     "languageId": "r"
    }
   },
   "outputs": [
    {
     "name": "stderr",
     "output_type": "stream",
     "text": [
      "Warning message:\n",
      "\"package 'dplyr' was built under R version 3.6.3\"\n",
      "Attaching package: 'dplyr'\n",
      "\n",
      "The following objects are masked from 'package:stats':\n",
      "\n",
      "    filter, lag\n",
      "\n",
      "The following objects are masked from 'package:base':\n",
      "\n",
      "    intersect, setdiff, setequal, union\n",
      "\n",
      "Warning message:\n",
      "\"package 'sqldf' was built under R version 3.6.3\"Loading required package: gsubfn\n",
      "Warning message:\n",
      "\"package 'gsubfn' was built under R version 3.6.3\"Loading required package: proto\n",
      "Warning message:\n",
      "\"package 'proto' was built under R version 3.6.3\"Loading required package: RSQLite\n",
      "Warning message:\n",
      "\"package 'RSQLite' was built under R version 3.6.3\""
     ]
    }
   ],
   "source": [
    "library(dplyr)\n",
    "library(sqldf)"
   ]
  },
  {
   "cell_type": "code",
   "execution_count": 6,
   "id": "541f30d7",
   "metadata": {
    "vscode": {
     "languageId": "r"
    }
   },
   "outputs": [
    {
     "data": {
      "text/html": [
       "5163"
      ],
      "text/latex": [
       "5163"
      ],
      "text/markdown": [
       "5163"
      ],
      "text/plain": [
       "[1] 5163"
      ]
     },
     "metadata": {},
     "output_type": "display_data"
    },
    {
     "data": {
      "text/html": [
       "41"
      ],
      "text/latex": [
       "41"
      ],
      "text/markdown": [
       "41"
      ],
      "text/plain": [
       "[1] 41"
      ]
     },
     "metadata": {},
     "output_type": "display_data"
    }
   ],
   "source": [
    "nrow(df_input_0)\n",
    "ncol(df_input_0)"
   ]
  },
  {
   "cell_type": "code",
   "execution_count": 7,
   "id": "97c7ff34",
   "metadata": {
    "vscode": {
     "languageId": "r"
    }
   },
   "outputs": [
    {
     "data": {
      "text/html": [
       "1869"
      ],
      "text/latex": [
       "1869"
      ],
      "text/markdown": [
       "1869"
      ],
      "text/plain": [
       "[1] 1869"
      ]
     },
     "metadata": {},
     "output_type": "display_data"
    },
    {
     "data": {
      "text/html": [
       "41"
      ],
      "text/latex": [
       "41"
      ],
      "text/markdown": [
       "41"
      ],
      "text/plain": [
       "[1] 41"
      ]
     },
     "metadata": {},
     "output_type": "display_data"
    }
   ],
   "source": [
    "nrow(df_input_1)\n",
    "ncol(df_input_1)"
   ]
  },
  {
   "cell_type": "code",
   "execution_count": 3,
   "id": "b4e7fbed",
   "metadata": {
    "vscode": {
     "languageId": "r"
    }
   },
   "outputs": [],
   "source": [
    "df_input_0 <- read.csv('./data/bootstrap_df_input_0.csv')\n",
    "df_input_1 <- read.csv('./data/bootstrap_df_input_1.csv')"
   ]
  },
  {
   "cell_type": "code",
   "execution_count": 4,
   "id": "1cd0a13e",
   "metadata": {
    "vscode": {
     "languageId": "r"
    }
   },
   "outputs": [
    {
     "data": {
      "text/html": [
       "<table>\n",
       "<thead><tr><th scope=col>Churn2</th><th scope=col>tenure</th><th scope=col>MonthlyCharges</th><th scope=col>TotalCharges</th><th scope=col>gender2</th><th scope=col>SeniorCitizen</th><th scope=col>Partner2</th><th scope=col>Dependents2</th><th scope=col>PhoneService2</th><th scope=col>PaperlessBilling2</th><th scope=col>...</th><th scope=col>streammov_no</th><th scope=col>streammov_noinet</th><th scope=col>streammov_yes</th><th scope=col>contract_m2m</th><th scope=col>contract_1y</th><th scope=col>contract_2y</th><th scope=col>pymt_banktf</th><th scope=col>pymt_cc</th><th scope=col>pymt_echeck</th><th scope=col>pymt_mailedcheck</th></tr></thead>\n",
       "<tbody>\n",
       "\t<tr><td>1      </td><td> 2     </td><td> 53.85 </td><td> 108.15</td><td>1      </td><td>0      </td><td>0      </td><td>0      </td><td>1      </td><td>1      </td><td>...    </td><td>1      </td><td>0      </td><td>0      </td><td>1      </td><td>0      </td><td>0      </td><td>0      </td><td>0      </td><td>0      </td><td>1      </td></tr>\n",
       "\t<tr><td>1      </td><td> 2     </td><td> 70.70 </td><td> 151.65</td><td>0      </td><td>0      </td><td>0      </td><td>0      </td><td>1      </td><td>1      </td><td>...    </td><td>1      </td><td>0      </td><td>0      </td><td>1      </td><td>0      </td><td>0      </td><td>0      </td><td>0      </td><td>1      </td><td>0      </td></tr>\n",
       "\t<tr><td>1      </td><td> 8     </td><td> 99.65 </td><td> 820.50</td><td>0      </td><td>0      </td><td>0      </td><td>0      </td><td>1      </td><td>1      </td><td>...    </td><td>0      </td><td>0      </td><td>1      </td><td>1      </td><td>0      </td><td>0      </td><td>0      </td><td>0      </td><td>1      </td><td>0      </td></tr>\n",
       "\t<tr><td>1      </td><td>28     </td><td>104.80 </td><td>3046.05</td><td>0      </td><td>0      </td><td>1      </td><td>0      </td><td>1      </td><td>1      </td><td>...    </td><td>0      </td><td>0      </td><td>1      </td><td>1      </td><td>0      </td><td>0      </td><td>0      </td><td>0      </td><td>1      </td><td>0      </td></tr>\n",
       "\t<tr><td>1      </td><td>49     </td><td>103.70 </td><td>5036.30</td><td>1      </td><td>0      </td><td>0      </td><td>0      </td><td>1      </td><td>1      </td><td>...    </td><td>0      </td><td>0      </td><td>1      </td><td>1      </td><td>0      </td><td>0      </td><td>1      </td><td>0      </td><td>0      </td><td>0      </td></tr>\n",
       "\t<tr><td>1      </td><td>10     </td><td> 55.20 </td><td> 528.35</td><td>0      </td><td>0      </td><td>1      </td><td>1      </td><td>1      </td><td>0      </td><td>...    </td><td>1      </td><td>0      </td><td>0      </td><td>1      </td><td>0      </td><td>0      </td><td>0      </td><td>1      </td><td>0      </td><td>0      </td></tr>\n",
       "</tbody>\n",
       "</table>\n"
      ],
      "text/latex": [
       "\\begin{tabular}{r|lllllllllllllllllllllllllllllllllllllllll}\n",
       " Churn2 & tenure & MonthlyCharges & TotalCharges & gender2 & SeniorCitizen & Partner2 & Dependents2 & PhoneService2 & PaperlessBilling2 & ... & streammov\\_no & streammov\\_noinet & streammov\\_yes & contract\\_m2m & contract\\_1y & contract\\_2y & pymt\\_banktf & pymt\\_cc & pymt\\_echeck & pymt\\_mailedcheck\\\\\n",
       "\\hline\n",
       "\t 1       &  2      &  53.85  &  108.15 & 1       & 0       & 0       & 0       & 1       & 1       & ...     & 1       & 0       & 0       & 1       & 0       & 0       & 0       & 0       & 0       & 1      \\\\\n",
       "\t 1       &  2      &  70.70  &  151.65 & 0       & 0       & 0       & 0       & 1       & 1       & ...     & 1       & 0       & 0       & 1       & 0       & 0       & 0       & 0       & 1       & 0      \\\\\n",
       "\t 1       &  8      &  99.65  &  820.50 & 0       & 0       & 0       & 0       & 1       & 1       & ...     & 0       & 0       & 1       & 1       & 0       & 0       & 0       & 0       & 1       & 0      \\\\\n",
       "\t 1       & 28      & 104.80  & 3046.05 & 0       & 0       & 1       & 0       & 1       & 1       & ...     & 0       & 0       & 1       & 1       & 0       & 0       & 0       & 0       & 1       & 0      \\\\\n",
       "\t 1       & 49      & 103.70  & 5036.30 & 1       & 0       & 0       & 0       & 1       & 1       & ...     & 0       & 0       & 1       & 1       & 0       & 0       & 1       & 0       & 0       & 0      \\\\\n",
       "\t 1       & 10      &  55.20  &  528.35 & 0       & 0       & 1       & 1       & 1       & 0       & ...     & 1       & 0       & 0       & 1       & 0       & 0       & 0       & 1       & 0       & 0      \\\\\n",
       "\\end{tabular}\n"
      ],
      "text/markdown": [
       "\n",
       "| Churn2 | tenure | MonthlyCharges | TotalCharges | gender2 | SeniorCitizen | Partner2 | Dependents2 | PhoneService2 | PaperlessBilling2 | ... | streammov_no | streammov_noinet | streammov_yes | contract_m2m | contract_1y | contract_2y | pymt_banktf | pymt_cc | pymt_echeck | pymt_mailedcheck |\n",
       "|---|---|---|---|---|---|---|---|---|---|---|---|---|---|---|---|---|---|---|---|---|\n",
       "| 1       |  2      |  53.85  |  108.15 | 1       | 0       | 0       | 0       | 1       | 1       | ...     | 1       | 0       | 0       | 1       | 0       | 0       | 0       | 0       | 0       | 1       |\n",
       "| 1       |  2      |  70.70  |  151.65 | 0       | 0       | 0       | 0       | 1       | 1       | ...     | 1       | 0       | 0       | 1       | 0       | 0       | 0       | 0       | 1       | 0       |\n",
       "| 1       |  8      |  99.65  |  820.50 | 0       | 0       | 0       | 0       | 1       | 1       | ...     | 0       | 0       | 1       | 1       | 0       | 0       | 0       | 0       | 1       | 0       |\n",
       "| 1       | 28      | 104.80  | 3046.05 | 0       | 0       | 1       | 0       | 1       | 1       | ...     | 0       | 0       | 1       | 1       | 0       | 0       | 0       | 0       | 1       | 0       |\n",
       "| 1       | 49      | 103.70  | 5036.30 | 1       | 0       | 0       | 0       | 1       | 1       | ...     | 0       | 0       | 1       | 1       | 0       | 0       | 1       | 0       | 0       | 0       |\n",
       "| 1       | 10      |  55.20  |  528.35 | 0       | 0       | 1       | 1       | 1       | 0       | ...     | 1       | 0       | 0       | 1       | 0       | 0       | 0       | 1       | 0       | 0       |\n",
       "\n"
      ],
      "text/plain": [
       "  Churn2 tenure MonthlyCharges TotalCharges gender2 SeniorCitizen Partner2\n",
       "1 1       2      53.85          108.15      1       0             0       \n",
       "2 1       2      70.70          151.65      0       0             0       \n",
       "3 1       8      99.65          820.50      0       0             0       \n",
       "4 1      28     104.80         3046.05      0       0             1       \n",
       "5 1      49     103.70         5036.30      1       0             0       \n",
       "6 1      10      55.20          528.35      0       0             1       \n",
       "  Dependents2 PhoneService2 PaperlessBilling2 ... streammov_no streammov_noinet\n",
       "1 0           1             1                 ... 1            0               \n",
       "2 0           1             1                 ... 1            0               \n",
       "3 0           1             1                 ... 0            0               \n",
       "4 0           1             1                 ... 0            0               \n",
       "5 0           1             1                 ... 0            0               \n",
       "6 1           1             0                 ... 1            0               \n",
       "  streammov_yes contract_m2m contract_1y contract_2y pymt_banktf pymt_cc\n",
       "1 0             1            0           0           0           0      \n",
       "2 0             1            0           0           0           0      \n",
       "3 1             1            0           0           0           0      \n",
       "4 1             1            0           0           0           0      \n",
       "5 1             1            0           0           1           0      \n",
       "6 0             1            0           0           0           1      \n",
       "  pymt_echeck pymt_mailedcheck\n",
       "1 0           1               \n",
       "2 1           0               \n",
       "3 1           0               \n",
       "4 1           0               \n",
       "5 0           0               \n",
       "6 0           0               "
      ]
     },
     "metadata": {},
     "output_type": "display_data"
    }
   ],
   "source": [
    "head(df_input_1)"
   ]
  },
  {
   "cell_type": "code",
   "execution_count": 8,
   "id": "96436403",
   "metadata": {
    "vscode": {
     "languageId": "r"
    }
   },
   "outputs": [],
   "source": [
    "options(warn=-1)\n",
    "matriks<-matrix(1:7857)\n",
    "for (i in matriks)\n",
    "{\n",
    "  set.seed(i)\n",
    "  train_ind <- sample(seq_len(nrow(df_input_0)), size = 7)\n",
    " a <- df_input_0[train_ind, ]\n",
    " write.table(data.frame(a), file=\"./data/boost_0.csv\", append=T, sep = \",\", row.names = FALSE)\n",
    "}"
   ]
  },
  {
   "cell_type": "code",
   "execution_count": 9,
   "id": "7b605190",
   "metadata": {
    "vscode": {
     "languageId": "r"
    }
   },
   "outputs": [],
   "source": [
    "options(warn=-1)\n",
    "matriks<-matrix(1:15000)\n",
    "for (i in matriks)\n",
    "{\n",
    "  set.seed(i)\n",
    "  train_ind <- sample(seq_len(nrow(df_input_1)), size = 3)\n",
    " a <- df_input_1[train_ind, ]\n",
    " write.table(data.frame(a), file=\"./data/boost_1.csv\", append=T, sep = \",\", row.names = FALSE)\n",
    "}"
   ]
  },
  {
   "cell_type": "code",
   "execution_count": null,
   "id": "2cd46428",
   "metadata": {
    "vscode": {
     "languageId": "r"
    }
   },
   "outputs": [],
   "source": []
  }
 ],
 "metadata": {
  "kernelspec": {
   "display_name": "R",
   "language": "R",
   "name": "ir"
  },
  "language_info": {
   "codemirror_mode": "r",
   "file_extension": ".r",
   "mimetype": "text/x-r-source",
   "name": "R",
   "pygments_lexer": "r",
   "version": "3.6.1"
  }
 },
 "nbformat": 4,
 "nbformat_minor": 5
}
